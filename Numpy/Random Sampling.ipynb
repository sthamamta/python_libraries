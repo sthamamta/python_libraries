{
 "cells": [
  {
   "cell_type": "code",
   "execution_count": 2,
   "metadata": {},
   "outputs": [],
   "source": [
    "import numpy as np\n",
    "import random"
   ]
  },
  {
   "cell_type": "code",
   "execution_count": 4,
   "metadata": {},
   "outputs": [
    {
     "data": {
      "text/plain": [
       "array([0.36609758])"
      ]
     },
     "execution_count": 4,
     "metadata": {},
     "output_type": "execute_result"
    }
   ],
   "source": [
    "#returns single element array with element value between 0 and 1\n",
    "np.random.random(1)"
   ]
  },
  {
   "cell_type": "code",
   "execution_count": 6,
   "metadata": {},
   "outputs": [
    {
     "data": {
      "text/plain": [
       "array([[0.72100383, 0.45084396, 0.31487588],\n",
       "       [0.27422729, 0.80024263, 0.67850451],\n",
       "       [0.66903752, 0.75923794, 0.87030851]])"
      ]
     },
     "execution_count": 6,
     "metadata": {},
     "output_type": "execute_result"
    }
   ],
   "source": [
    "#creating 3*3 array of random value\n",
    "np.random.random((3,3))"
   ]
  },
  {
   "cell_type": "code",
   "execution_count": 8,
   "metadata": {},
   "outputs": [
    {
     "data": {
      "text/plain": [
       "4"
      ]
     },
     "execution_count": 8,
     "metadata": {},
     "output_type": "execute_result"
    }
   ],
   "source": [
    "#generating random integer\n",
    "#returns random element between 1(inclusive) and 5(exclusive)\n",
    "np.random.randint(1,5)"
   ]
  },
  {
   "cell_type": "code",
   "execution_count": 9,
   "metadata": {},
   "outputs": [
    {
     "data": {
      "text/plain": [
       "array([[4, 2, 4, 2],\n",
       "       [1, 3, 2, 1],\n",
       "       [2, 4, 4, 1],\n",
       "       [1, 4, 4, 4]])"
      ]
     },
     "execution_count": 9,
     "metadata": {},
     "output_type": "execute_result"
    }
   ],
   "source": [
    "#returns random multidimensional array of 4*4 with each element value between 1(inclusive) and 5(exclusive)\n",
    "np.random.randint(1,5,(4,4))"
   ]
  },
  {
   "cell_type": "code",
   "execution_count": 10,
   "metadata": {},
   "outputs": [
    {
     "data": {
      "text/plain": [
       "array([[[5, 3, 3, 5],\n",
       "        [2, 4, 5, 1],\n",
       "        [5, 3, 4, 5]],\n",
       "\n",
       "       [[2, 5, 5, 4],\n",
       "        [2, 3, 4, 3],\n",
       "        [3, 3, 1, 2]]])"
      ]
     },
     "execution_count": 10,
     "metadata": {},
     "output_type": "execute_result"
    }
   ],
   "source": [
    "#creating 3D array\n",
    "np.random.randint(1,6,(2,3,4))"
   ]
  },
  {
   "cell_type": "markdown",
   "metadata": {},
   "source": [
    "# SEED FUNCTION\n"
   ]
  },
  {
   "cell_type": "code",
   "execution_count": 12,
   "metadata": {},
   "outputs": [
    {
     "data": {
      "text/plain": [
       "array([[[1, 1, 4, 3],\n",
       "        [4, 1, 3, 2],\n",
       "        [4, 3, 5, 5]],\n",
       "\n",
       "       [[5, 4, 5, 3],\n",
       "        [4, 4, 3, 2],\n",
       "        [3, 5, 4, 1]]])"
      ]
     },
     "execution_count": 12,
     "metadata": {},
     "output_type": "execute_result"
    }
   ],
   "source": [
    "np.random.seed(2)\n",
    "np.random.randint(1,6,(2,3,4))"
   ]
  },
  {
   "cell_type": "code",
   "execution_count": 13,
   "metadata": {},
   "outputs": [
    {
     "data": {
      "text/plain": [
       "array([[[5, 4, 2, 3],\n",
       "        [1, 5, 5, 3],\n",
       "        [5, 3, 2, 1]],\n",
       "\n",
       "       [[3, 3, 2, 1],\n",
       "        [2, 1, 3, 2],\n",
       "        [2, 2, 5, 3]]])"
      ]
     },
     "execution_count": 13,
     "metadata": {},
     "output_type": "execute_result"
    }
   ],
   "source": [
    "np.random.randint(1,6,(2,3,4))"
   ]
  },
  {
   "cell_type": "code",
   "execution_count": 14,
   "metadata": {},
   "outputs": [
    {
     "data": {
      "text/plain": [
       "array([[[1, 1, 4, 3],\n",
       "        [4, 1, 3, 2],\n",
       "        [4, 3, 5, 5]],\n",
       "\n",
       "       [[5, 4, 5, 3],\n",
       "        [4, 4, 3, 2],\n",
       "        [3, 5, 4, 1]]])"
      ]
     },
     "execution_count": 14,
     "metadata": {},
     "output_type": "execute_result"
    }
   ],
   "source": [
    "np.random.seed(2)\n",
    "np.random.randint(1,6,(2,3,4))"
   ]
  },
  {
   "cell_type": "markdown",
   "metadata": {},
   "source": [
    "# Rand function "
   ]
  },
  {
   "cell_type": "code",
   "execution_count": 17,
   "metadata": {},
   "outputs": [
    {
     "data": {
      "text/plain": [
       "array([0.22030621, 0.34982629, 0.46778748])"
      ]
     },
     "execution_count": 17,
     "metadata": {},
     "output_type": "execute_result"
    }
   ],
   "source": [
    "#creating array of size 3 with each element value between 0 and 1\n",
    "np.random.rand(3)"
   ]
  },
  {
   "cell_type": "code",
   "execution_count": 18,
   "metadata": {},
   "outputs": [
    {
     "data": {
      "text/plain": [
       "array([0.20174323, 0.64040673, 0.48306984, 0.50523672, 0.38689265])"
      ]
     },
     "execution_count": 18,
     "metadata": {},
     "output_type": "execute_result"
    }
   ],
   "source": [
    "np.random.rand(5)"
   ]
  },
  {
   "cell_type": "code",
   "execution_count": 20,
   "metadata": {},
   "outputs": [
    {
     "data": {
      "text/plain": [
       "array([[[0.84511312, 0.9885097 , 0.04886809, 0.23211825],\n",
       "        [0.64331143, 0.16146656, 0.87014589, 0.21740243],\n",
       "        [0.74175504, 0.65302051, 0.79888551, 0.03124756],\n",
       "        [0.22957403, 0.7046275 , 0.08756251, 0.03058948],\n",
       "        [0.35713493, 0.58978199, 0.05222273, 0.06566367]],\n",
       "\n",
       "       [[0.04350119, 0.39515076, 0.66842705, 0.19802711],\n",
       "        [0.87626645, 0.4323891 , 0.61964146, 0.29042674],\n",
       "        [0.61525457, 0.95365996, 0.44801472, 0.20704984],\n",
       "        [0.42536729, 0.44457426, 0.50761749, 0.52573325],\n",
       "        [0.04242919, 0.16441909, 0.45022718, 0.70797117]],\n",
       "\n",
       "       [[0.77758791, 0.777103  , 0.50277875, 0.95674759],\n",
       "        [0.33187371, 0.48145816, 0.748374  , 0.85783952],\n",
       "        [0.41446006, 0.84868451, 0.44457094, 0.71574708],\n",
       "        [0.00844836, 0.02520142, 0.94045049, 0.10213795],\n",
       "        [0.66196779, 0.28325874, 0.20084234, 0.38833418]],\n",
       "\n",
       "       [[0.9259016 , 0.57027421, 0.91671461, 0.70226424],\n",
       "        [0.50121645, 0.50608683, 0.21882079, 0.00466352],\n",
       "        [0.41783624, 0.56337611, 0.87656187, 0.67758484],\n",
       "        [0.84233305, 0.92616129, 0.94111587, 0.81601915],\n",
       "        [0.13139461, 0.34663001, 0.20850249, 0.86738154]],\n",
       "\n",
       "       [[0.79233022, 0.34900164, 0.56914053, 0.80513154],\n",
       "        [0.83316124, 0.20579368, 0.7306802 , 0.80341416],\n",
       "        [0.04312904, 0.1071874 , 0.43508365, 0.22088122],\n",
       "        [0.88062207, 0.71968754, 0.71300729, 0.76985966],\n",
       "        [0.33074703, 0.22861025, 0.62634396, 0.41447925]]])"
      ]
     },
     "execution_count": 20,
     "metadata": {},
     "output_type": "execute_result"
    }
   ],
   "source": [
    "np.random.rand(5,5,4)  #returns 3D array"
   ]
  },
  {
   "cell_type": "code",
   "execution_count": 21,
   "metadata": {},
   "outputs": [
    {
     "data": {
      "text/plain": [
       "array([[[ 1.80409807e-01,  5.53164274e-01,  1.03302907e+00,\n",
       "         -3.29002435e-01],\n",
       "        [-1.15100294e+00, -4.26522471e-01, -1.48147191e-01,\n",
       "          1.50143692e+00],\n",
       "        [ 8.69598198e-01, -1.08709057e+00,  6.64221413e-01,\n",
       "          7.34884668e-01],\n",
       "        [-1.06136574e+00, -1.08516824e-01, -1.85040397e+00,\n",
       "          3.30488064e-01],\n",
       "        [-3.15693210e-01, -1.35000210e+00, -6.98170998e-01,\n",
       "          2.39951198e-01]],\n",
       "\n",
       "       [[-5.52949440e-01,  2.99526813e-01,  5.52663696e-01,\n",
       "         -8.40443012e-01],\n",
       "        [-3.12270670e-01,  2.14467809e+00,  1.21105582e-01,\n",
       "         -8.46828752e-01],\n",
       "        [ 6.04624490e-02, -1.33858888e+00,  1.13274608e+00,\n",
       "          3.70304843e-01],\n",
       "        [ 1.08580640e+00,  9.02179395e-01,  3.90296450e-01,\n",
       "          9.75509412e-01],\n",
       "        [ 1.91573647e-01, -6.62209012e-01, -1.02351498e+00,\n",
       "         -4.48174823e-01]],\n",
       "\n",
       "       [[-2.50545813e+00,  1.82599446e+00, -1.71406741e+00,\n",
       "         -7.66395640e-02],\n",
       "        [-1.31756727e+00, -2.02559359e+00, -8.22453750e-02,\n",
       "         -3.04666585e-01],\n",
       "        [-1.59724130e-01,  5.48946560e-01, -6.18375485e-01,\n",
       "          3.78794466e-01],\n",
       "        [ 5.13251444e-01, -3.34844125e-01, -2.83519516e-01,\n",
       "          5.38424263e-01],\n",
       "        [ 5.72509465e-02,  1.59088487e-01, -2.37440268e+00,\n",
       "          5.85199353e-02]],\n",
       "\n",
       "       [[ 3.76545911e-01, -1.35479764e-01,  3.35908395e-01,\n",
       "          1.90437591e+00],\n",
       "        [ 8.53644334e-02,  6.65334278e-01, -8.49995503e-01,\n",
       "         -8.52341797e-01],\n",
       "        [-4.79985112e-01, -1.01964910e+00, -7.60113841e-03,\n",
       "         -9.33830661e-01],\n",
       "        [-1.74996844e-01, -1.43714343e+00, -1.65220029e+00,\n",
       "         -6.75661789e-01],\n",
       "        [-1.06706712e+00, -6.52931145e-01, -6.12094750e-01,\n",
       "         -3.51262461e-01]],\n",
       "\n",
       "       [[ 1.04547799e+00,  1.36901602e+00,  7.25353259e-01,\n",
       "         -3.59474459e-01],\n",
       "        [ 1.49695179e+00, -1.53111111e+00, -2.02336394e+00,\n",
       "          2.67972576e-01],\n",
       "        [-2.20644541e-03, -1.39291883e-01,  3.25654693e-02,\n",
       "         -1.64056022e+00],\n",
       "        [-1.15669917e+00,  1.23403468e+00,  1.02818490e+00,\n",
       "         -7.21879726e-01],\n",
       "        [ 1.93315697e+00, -1.07079633e+00, -5.71381608e-01,\n",
       "          2.92432067e-01]]])"
      ]
     },
     "execution_count": 21,
     "metadata": {},
     "output_type": "execute_result"
    }
   ],
   "source": [
    "# returns no from normal distribution\n",
    "np.random.randn(5,5,4)\n"
   ]
  },
  {
   "cell_type": "code",
   "execution_count": null,
   "metadata": {},
   "outputs": [],
   "source": []
  },
  {
   "cell_type": "code",
   "execution_count": null,
   "metadata": {},
   "outputs": [],
   "source": []
  },
  {
   "cell_type": "code",
   "execution_count": 23,
   "metadata": {},
   "outputs": [
    {
     "data": {
      "text/plain": [
       "6"
      ]
     },
     "execution_count": 23,
     "metadata": {},
     "output_type": "execute_result"
    }
   ],
   "source": [
    "# choice function\n",
    "x=[3,6,5,7,8]\n",
    "np.random.choice(x)  #returns any one no from the list x"
   ]
  },
  {
   "cell_type": "code",
   "execution_count": 24,
   "metadata": {},
   "outputs": [
    {
     "data": {
      "text/plain": [
       "7"
      ]
     },
     "execution_count": 24,
     "metadata": {},
     "output_type": "execute_result"
    }
   ],
   "source": [
    "np.random.choice(x)"
   ]
  },
  {
   "cell_type": "code",
   "execution_count": 25,
   "metadata": {},
   "outputs": [
    {
     "name": "stdout",
     "output_type": "stream",
     "text": [
      "6\n",
      "7\n",
      "3\n",
      "5\n",
      "6\n",
      "8\n",
      "3\n"
     ]
    }
   ],
   "source": [
    "for i in range(7):\n",
    "    print(np.random.choice(x))"
   ]
  },
  {
   "cell_type": "markdown",
   "metadata": {},
   "source": [
    "# Permutation"
   ]
  },
  {
   "cell_type": "code",
   "execution_count": 33,
   "metadata": {},
   "outputs": [
    {
     "data": {
      "text/plain": [
       "array([8, 6, 3, 7, 5])"
      ]
     },
     "execution_count": 33,
     "metadata": {},
     "output_type": "execute_result"
    }
   ],
   "source": [
    "#permutation\n",
    "np.random.permutation(x)"
   ]
  },
  {
   "cell_type": "code",
   "execution_count": 34,
   "metadata": {},
   "outputs": [
    {
     "data": {
      "text/plain": [
       "array([7, 3, 5, 8, 6])"
      ]
     },
     "execution_count": 34,
     "metadata": {},
     "output_type": "execute_result"
    }
   ],
   "source": [
    "np.random.permutation(x)"
   ]
  },
  {
   "cell_type": "code",
   "execution_count": 35,
   "metadata": {},
   "outputs": [
    {
     "name": "stdout",
     "output_type": "stream",
     "text": [
      "[3 2 1]\n",
      "[3 2 1]\n",
      "[1 3 2]\n",
      "[2 3 1]\n"
     ]
    }
   ],
   "source": [
    "y=[1,2,3]\n",
    "for i in range(4):\n",
    "    print(np.random.permutation(y))"
   ]
  },
  {
   "cell_type": "code",
   "execution_count": null,
   "metadata": {},
   "outputs": [],
   "source": []
  }
 ],
 "metadata": {
  "kernelspec": {
   "display_name": "Python 3",
   "language": "python",
   "name": "python3"
  },
  "language_info": {
   "codemirror_mode": {
    "name": "ipython",
    "version": 3
   },
   "file_extension": ".py",
   "mimetype": "text/x-python",
   "name": "python",
   "nbconvert_exporter": "python",
   "pygments_lexer": "ipython3",
   "version": "3.6.9"
  }
 },
 "nbformat": 4,
 "nbformat_minor": 4
}
